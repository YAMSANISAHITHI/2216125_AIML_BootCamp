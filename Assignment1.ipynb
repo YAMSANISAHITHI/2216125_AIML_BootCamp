{
  "nbformat": 4,
  "nbformat_minor": 0,
  "metadata": {
    "colab": {
      "name": "Assignment1.ipynb",
      "provenance": [],
      "collapsed_sections": [],
      "authorship_tag": "ABX9TyMLD04JKK84x8e6L1g9I91G",
      "include_colab_link": true
    },
    "kernelspec": {
      "name": "python3",
      "display_name": "Python 3"
    },
    "language_info": {
      "name": "python"
    }
  },
  "cells": [
    {
      "cell_type": "markdown",
      "metadata": {
        "id": "view-in-github",
        "colab_type": "text"
      },
      "source": [
        "<a href=\"https://colab.research.google.com/github/YAMSANISAHITHI/2216125_AIML_BootCamp/blob/main/Assignment1.ipynb\" target=\"_parent\"><img src=\"https://colab.research.google.com/assets/colab-badge.svg\" alt=\"Open In Colab\"/></a>"
      ]
    },
    {
      "cell_type": "code",
      "source": [
        "#Q1.Implement the methods of String with examples.\n",
        "mystr=\"my first assignment\"\n",
        "print(mystr.upper())\n",
        "print(mystr.lower())\n",
        "print(mystr.swapcase())\n",
        "print(mystr.title())\n",
        "print(mystr.capitalize())"
      ],
      "metadata": {
        "colab": {
          "base_uri": "https://localhost:8080/"
        },
        "id": "l4gi1BQ4awYg",
        "outputId": "2688ca6b-c2a7-473d-804f-ce98113cd59e"
      },
      "execution_count": 7,
      "outputs": [
        {
          "output_type": "stream",
          "name": "stdout",
          "text": [
            "MY FIRST ASSIGNMENT\n",
            "my first assignment\n",
            "MY FIRST ASSIGNMENT\n",
            "My First Assignment\n",
            "My first assignment\n"
          ]
        }
      ]
    },
    {
      "cell_type": "code",
      "source": [
        "my_str=\"    my name is bunny  \"\n",
        "print(my_str.strip())\n",
        "print(my_str.lstrip())\n",
        "print(my_str.rstrip())"
      ],
      "metadata": {
        "colab": {
          "base_uri": "https://localhost:8080/"
        },
        "id": "X3K4scMvbdEK",
        "outputId": "1a27827d-4d99-408b-de8d-88a6810c17b5"
      },
      "execution_count": 19,
      "outputs": [
        {
          "output_type": "stream",
          "name": "stdout",
          "text": [
            "my name is bunny\n",
            "my name is bunny  \n",
            "    my name is bunny\n"
          ]
        }
      ]
    },
    {
      "cell_type": "code",
      "source": [
        "#Q2.Implement the methods of List with example\n",
        "list1=[3,5,6]\n",
        "list1.append(4)\n",
        "print(list1)\n",
        "list1.extend([1,2,7])\n",
        "print(list1)\n",
        "list1.insert(8,4.0)\n",
        "print(list1)\n",
        "del list1[3]\n",
        "print(list1)\n",
        "list1.remove(3)\n",
        "print(list1)\n",
        "list1.pop()\n",
        "print(list1)\n",
        "list1.clear()\n",
        "l1=[5,7.1,76,18,24,90,44,67,5]\n",
        "print(l1.count(5))\n",
        "print(len(l1))\n",
        "print(l1[::-1])\n",
        "l1.reverse()\n",
        "print(l1)\n",
        "l1.sort()\n",
        "print(l1)\n",
        "\n",
        "\n"
      ],
      "metadata": {
        "colab": {
          "base_uri": "https://localhost:8080/"
        },
        "id": "kMCEwqTvbsoT",
        "outputId": "20bc5188-12db-4ed0-8193-91cf38a0014d"
      },
      "execution_count": 20,
      "outputs": [
        {
          "output_type": "stream",
          "name": "stdout",
          "text": [
            "[3, 5, 6, 4]\n",
            "[3, 5, 6, 4, 1, 2, 7]\n",
            "[3, 5, 6, 4, 1, 2, 7, 4.0]\n",
            "[3, 5, 6, 1, 2, 7, 4.0]\n",
            "[5, 6, 1, 2, 7, 4.0]\n",
            "[5, 6, 1, 2, 7]\n",
            "2\n",
            "9\n",
            "[5, 67, 44, 90, 24, 18, 76, 7.1, 5]\n",
            "[5, 67, 44, 90, 24, 18, 76, 7.1, 5]\n",
            "[5, 5, 7.1, 18, 24, 44, 67, 76, 90]\n"
          ]
        }
      ]
    },
    {
      "cell_type": "code",
      "source": [
        "#Q3.Implement the methods of Tuple with examples.\n",
        "my_tuple=(5,6,7,8)\n",
        "print(my_tuple.count(5))\n",
        "print(my_tuple.index(6))\n",
        "print(max(my_tuple))\n",
        "print(min(my_tuple))\n",
        "print(len(my_tuple))"
      ],
      "metadata": {
        "colab": {
          "base_uri": "https://localhost:8080/"
        },
        "id": "iUBmByF7g6rK",
        "outputId": "fd51e440-1704-49d1-90d1-cf27d5e91736"
      },
      "execution_count": 24,
      "outputs": [
        {
          "output_type": "stream",
          "name": "stdout",
          "text": [
            "1\n",
            "1\n",
            "8\n",
            "5\n",
            "4\n"
          ]
        }
      ]
    },
    {
      "cell_type": "code",
      "source": [
        "#Q4.Implement the methods of Dictionary with examples.\n",
        "my_dict={'name':'ravi','phno':9657743672,'address':'krm'}\n",
        "print(my_dict['name'])\n",
        "print(my_dict.keys())\n",
        "print(my_dict.values())\n",
        "print(my_dict.get('name'))"
      ],
      "metadata": {
        "colab": {
          "base_uri": "https://localhost:8080/"
        },
        "id": "0PrJtfZHiCAz",
        "outputId": "303bcf4c-e77c-45b8-b461-ff412762b32c"
      },
      "execution_count": 25,
      "outputs": [
        {
          "output_type": "stream",
          "name": "stdout",
          "text": [
            "ravi\n",
            "dict_keys(['name', 'phno', 'address'])\n",
            "dict_values(['ravi', 9657743672, 'krm'])\n",
            "ravi\n"
          ]
        }
      ]
    },
    {
      "cell_type": "code",
      "source": [
        "#Q5.Implement the methods of Set with examples.\n",
        "my_set={1,2,3,4,5}\n",
        "my_set.add(6)\n",
        "print(my_set)\n",
        "my_set.update([10,39,46])\n",
        "print(my_set)\n",
        "my_set.discard(3)\n",
        "print(my_set)\n",
        "my_set.remove(4)\n",
        "print(my_set)\n",
        "\n",
        "\n"
      ],
      "metadata": {
        "colab": {
          "base_uri": "https://localhost:8080/"
        },
        "id": "k5mPhWf1jHUr",
        "outputId": "33201893-05f7-4c38-a1c4-392707c23842"
      },
      "execution_count": 27,
      "outputs": [
        {
          "output_type": "stream",
          "name": "stdout",
          "text": [
            "{1, 2, 3, 4, 5, 6}\n",
            "{1, 2, 3, 4, 5, 6, 39, 10, 46}\n",
            "{1, 2, 4, 5, 6, 39, 10, 46}\n",
            "{1, 2, 5, 6, 39, 10, 46}\n"
          ]
        }
      ]
    },
    {
      "cell_type": "code",
      "source": [
        "#Q6.Write a python program to convert Decimal to Binary, Octal and Hexadecimal with direct method.\n",
        "dec = 344\n",
        "print(\"The decimal value of\", dec, \"is:\")\n",
        "print(bin(dec), \"in binary.\")\n",
        "print(oct(dec), \"in octal.\")\n",
        "print(hex(dec), \"in hexadecimal.\")"
      ],
      "metadata": {
        "colab": {
          "base_uri": "https://localhost:8080/"
        },
        "id": "Xv-O3HR_lmIn",
        "outputId": "a8e428fe-c100-45f2-b1a5-03f1f1834a4e"
      },
      "execution_count": 29,
      "outputs": [
        {
          "output_type": "stream",
          "name": "stdout",
          "text": [
            "The decimal value of 344 is:\n",
            "0b101011000 in binary.\n",
            "0o530 in octal.\n",
            "0x158 in hexadecimal.\n"
          ]
        }
      ]
    },
    {
      "cell_type": "code",
      "source": [
        "#Q7.mplement Arithmetic operators with examples\n",
        "a=2\n",
        "b=1\n",
        "print(\"arithmetic\\n\")\n",
        "print(a+b)\n",
        "print(a-b)\n",
        "print(a*b)\n",
        "print(a/b)\n",
        "print(a//b)\n",
        "print(a%b)\n",
        "print(a**b)\n"
      ],
      "metadata": {
        "colab": {
          "base_uri": "https://localhost:8080/"
        },
        "id": "x_TykNoPmm4-",
        "outputId": "8bd51e34-646f-4093-c729-6f7b3e559280"
      },
      "execution_count": 34,
      "outputs": [
        {
          "output_type": "stream",
          "name": "stdout",
          "text": [
            "arithmetic\n",
            "\n",
            "3\n",
            "1\n",
            "2\n",
            "2.0\n",
            "2\n",
            "0\n",
            "2\n"
          ]
        }
      ]
    },
    {
      "cell_type": "code",
      "source": [
        "#Q8.Implement Assignment operators with examples\n",
        "a=10\n",
        "b=2\n",
        "print(\"assignmet\\n\")\n",
        "c=a+b\n",
        "print(c)\n",
        "c+=a\n",
        "print(c)\n",
        "c-=a\n",
        "print(c)\n",
        "c*=a\n",
        "print(c)\n",
        "c/=a\n",
        "print(c)\n",
        "c%=a\n",
        "print(c)\n",
        "c**=a\n",
        "print(c)"
      ],
      "metadata": {
        "colab": {
          "base_uri": "https://localhost:8080/"
        },
        "id": "4LoD4blRnY1y",
        "outputId": "7339ec09-f9e6-4e0e-d66c-dd8b2d25b4af"
      },
      "execution_count": 37,
      "outputs": [
        {
          "output_type": "stream",
          "name": "stdout",
          "text": [
            "assignmet\n",
            "\n",
            "12\n",
            "22\n",
            "12\n",
            "120\n",
            "12.0\n",
            "2.0\n",
            "1024.0\n"
          ]
        }
      ]
    },
    {
      "cell_type": "code",
      "source": [
        "#Q9.Implement Comparison operators with examples.\n",
        "a=10\n",
        "b=20\n",
        "print(\"comparision\\n\")\n",
        "print(a==b)\n",
        "print(a!=b)\n",
        "print(a>b)\n",
        "print(a<b)\n",
        "print(a>=b)\n",
        "print(a<=b)\n",
        "\n"
      ],
      "metadata": {
        "colab": {
          "base_uri": "https://localhost:8080/"
        },
        "id": "2hUfnyRvoIf9",
        "outputId": "50fd9c8b-e3cc-4995-9906-8bdd09bddd4f"
      },
      "execution_count": 39,
      "outputs": [
        {
          "output_type": "stream",
          "name": "stdout",
          "text": [
            "comparision\n",
            "\n",
            "False\n",
            "True\n",
            "False\n",
            "True\n",
            "False\n",
            "True\n"
          ]
        }
      ]
    },
    {
      "cell_type": "code",
      "source": [
        "#Q10.Implement Logical operators with examples.\n",
        "print(\"logical\\n\")\n",
        "x=True\n",
        "y=False\n",
        "print(\"x and y is\",x and y)\n",
        "print(\"x or y is\",x or y)\n",
        "print(\"x not is\",not x)\n"
      ],
      "metadata": {
        "colab": {
          "base_uri": "https://localhost:8080/"
        },
        "id": "D9uHYeDToogk",
        "outputId": "db63fea7-50aa-418b-8ee8-36b34bf6473a"
      },
      "execution_count": 40,
      "outputs": [
        {
          "output_type": "stream",
          "name": "stdout",
          "text": [
            "logical\n",
            "\n",
            "x and y is False\n",
            "x or y is True\n",
            "x not is False\n"
          ]
        }
      ]
    },
    {
      "cell_type": "code",
      "source": [
        "#Q11.Implement Bitwise operators with examples.\n",
        "print(\"bitwise\\n\") \n",
        "a=15\n",
        "b=19\n",
        "print(a&b)\n",
        "print(a^b)\n",
        "print(a|b)\n",
        "print(~a)\n",
        "print(a>>2)\n",
        "print(a<<4)"
      ],
      "metadata": {
        "colab": {
          "base_uri": "https://localhost:8080/"
        },
        "id": "iutD8pVjo0L5",
        "outputId": "825c1e17-633f-404a-8634-7f62f09dd6e1"
      },
      "execution_count": 41,
      "outputs": [
        {
          "output_type": "stream",
          "name": "stdout",
          "text": [
            "bitwise\n",
            "\n",
            "3\n",
            "28\n",
            "31\n",
            "-16\n",
            "3\n",
            "240\n"
          ]
        }
      ]
    },
    {
      "cell_type": "code",
      "source": [
        "#Q12.Implement Membership operators with examples.\n",
        "print(\"membership\\n\")\n",
        "x=\"sahithi\"\n",
        "y={4:'y',5:'s'}\n",
        "print('s' in x)\n",
        "print(4 in y)\n",
        "print('k'in y)\n"
      ],
      "metadata": {
        "colab": {
          "base_uri": "https://localhost:8080/"
        },
        "id": "3EqkJvqmpG_I",
        "outputId": "0fce1162-ba39-43cc-b935-c0f8f23a66ef"
      },
      "execution_count": 43,
      "outputs": [
        {
          "output_type": "stream",
          "name": "stdout",
          "text": [
            "membership\n",
            "\n",
            "True\n",
            "True\n",
            "False\n"
          ]
        }
      ]
    },
    {
      "cell_type": "code",
      "source": [
        "#Q13.Implement Identity operators with examples\n",
        "x1=5\n",
        "y1=7\n",
        "x2=\"Hello\"\n",
        "y2=\"bunny\"\n",
        "x3=[1,2,3]\n",
        "y3=[1,2,3]\n",
        "print(x1 is not y1)\n",
        "print(x2 is y2)\n",
        "print(x3 is y3)"
      ],
      "metadata": {
        "colab": {
          "base_uri": "https://localhost:8080/"
        },
        "id": "wLFeh1NgpmVJ",
        "outputId": "c7d956cf-b910-4f2e-e9c8-69b46c2c6f7d"
      },
      "execution_count": 46,
      "outputs": [
        {
          "output_type": "stream",
          "name": "stdout",
          "text": [
            "True\n",
            "False\n",
            "False\n"
          ]
        }
      ]
    },
    {
      "cell_type": "code",
      "source": [
        "#Q14.Demonstrate Negative indexing for List and apply slicing.\n",
        "l1=[1,2,3,4,5,6]\n",
        "print(l1[::-1])\n",
        "print(l1[1:2])\n",
        "print(l1[1:7:2])\n",
        "\n"
      ],
      "metadata": {
        "colab": {
          "base_uri": "https://localhost:8080/"
        },
        "id": "4hAogtSWqHb1",
        "outputId": "a99da7b6-8b73-4775-fa9a-0790e31c51c9"
      },
      "execution_count": 51,
      "outputs": [
        {
          "output_type": "stream",
          "name": "stdout",
          "text": [
            "[6, 5, 4, 3, 2, 1]\n",
            "[2]\n",
            "[2, 4, 6]\n"
          ]
        }
      ]
    },
    {
      "cell_type": "code",
      "source": [
        "#Q15.Predict the output for the given code snippet and justify the result\n",
        "print('A series of characters designated as one object known as a string'[::-1][4::3])\n",
        "print(\"----------\")\n",
        "print('Welcome to python training program'[3:10][::-1])\n",
        "#Given print statement [::-1] reverse the whole string\n",
        "#Given print statement [::-1] reverse the whole string\n",
        "#[3:10] slicing operator starts from 3rd index and stops at 10th index and the it will reverse the string."
      ],
      "metadata": {
        "colab": {
          "base_uri": "https://localhost:8080/"
        },
        "id": "QfGrlHpBrJS4",
        "outputId": "cdb1eef7-3c61-4565-e278-879d1bac9374"
      },
      "execution_count": 1,
      "outputs": [
        {
          "output_type": "stream",
          "name": "stdout",
          "text": [
            "taawkcbe  tgestrcoeeA\n",
            "----------\n",
            "ot emoc\n"
          ]
        }
      ]
    },
    {
      "cell_type": "code",
      "source": [
        "#Q16.Write a python code to get desired output\n",
        "p_phrase=\"was it a car or a cat I saw\"\n",
        "str=p_phrase.upper()\n",
        "print(str[:3:]+\" \"+str[4:5:]+\" \"+str[5:6:]+str[7:8:]+str[9:10:]+\" \"+str[10:11:]+\" \"+str[11:12:]+str[13:14]+\" \"+str[14:15]+str[16:17:]+str[18:19:]+\" \"+str[19:20:]+\" \"+str[20:21:]+str[22:23:]+\" \"+str[24::])"
      ],
      "metadata": {
        "colab": {
          "base_uri": "https://localhost:8080/"
        },
        "id": "DGihV8XNsvlt",
        "outputId": "da8b0b82-7b97-4434-d2db-f3c3844264d8"
      },
      "execution_count": 2,
      "outputs": [
        {
          "output_type": "stream",
          "name": "stdout",
          "text": [
            "WAS I TAC A RO RAC A TI SAW\n"
          ]
        }
      ]
    },
    {
      "cell_type": "code",
      "source": [
        "#Q17.You are required to generate a word similar to ZOO, X and Y that denote the numberof Zs and Os respectively. The generated word similar to ZOO where Y= 2 * X. \n",
        "\n",
        "x=int(input(\"length of x\"))\n",
        "a=('Z'*x)\n",
        "#print(a)\n",
        "y=len(a)\n",
        "z=2*y\n",
        "y=('O'*z)\n",
        "#print(y)\n",
        "print(a+y)"
      ],
      "metadata": {
        "colab": {
          "base_uri": "https://localhost:8080/"
        },
        "id": "GBWyz0DntzKF",
        "outputId": "240b904a-b37c-4399-8c17-53ce02d4410a"
      },
      "execution_count": 3,
      "outputs": [
        {
          "output_type": "stream",
          "name": "stdout",
          "text": [
            "length of x3\n",
            "ZZZOOOOOO\n"
          ]
        }
      ]
    }
  ]
}